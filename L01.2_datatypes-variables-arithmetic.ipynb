{
  "cells": [
    {
      "cell_type": "markdown",
      "id": "943b042c-d177-4d79-9dea-d2a7f5fecd8f",
      "metadata": {
        "tags": [],
        "id": "943b042c-d177-4d79-9dea-d2a7f5fecd8f"
      },
      "source": [
        "# Lecture 1.2: Datatypes, Variables, and Arithmetic in Python\n",
        "\n"
      ]
    },
    {
      "cell_type": "markdown",
      "id": "b3c282c0-faf1-44bb-b740-7253a6120d44",
      "metadata": {
        "tags": [],
        "id": "b3c282c0-faf1-44bb-b740-7253a6120d44"
      },
      "source": [
        "## Jupyter Notebooks\n",
        "This is a Jupyter notebook. These are files that let you write both text (markdown Cells) and code (code cells) in the same place. Jupyter notebooks are great for learning and testing out code you're writing. It's an easy way to document what and why you're doing whatever you're doing.\n",
        "\n",
        "There are variety of ways to format a markdown cell. If you want to know how format things in markdown, go to the menu _Help > Markdown Reference._\n",
        "\n",
        "_**Get in the habit of leaving notes to yourself as you work.** Either as comments in your code, or in markdown cells in a notebook. You will forget what you were doing._"
      ]
    },
    {
      "cell_type": "markdown",
      "id": "7af2a4cc-fe95-4264-bec4-3776daabf1b3",
      "metadata": {
        "id": "7af2a4cc-fe95-4264-bec4-3776daabf1b3"
      },
      "source": [
        "## Basic Python Functions\n",
        "\n",
        "We'll talk about functions more later, but we'll end up using a few built in functions today. The basics of using a function involve knowing it's _name_ and the _parameters_ it needs to give you a desired _output_.\n",
        "\n",
        "For example, if you need to call someone on your phone, you tap on the phone app icon, enter a phone number and it connects your call. Tapping on the phone app icon is calling the function, the phone number is the parameter it needs, and the output is your connected call.\n",
        "\n",
        "The most common python you will use is the `print` function."
      ]
    },
    {
      "cell_type": "markdown",
      "id": "8295f059-3f55-4175-8082-e3cf507e0ffb",
      "metadata": {
        "jp-MarkdownHeadingCollapsed": true,
        "id": "8295f059-3f55-4175-8082-e3cf507e0ffb"
      },
      "source": [
        "### The `print()` function\n",
        "\n",
        "whatever we place within the parenthesis after the word `print` will print output to the screen as seen in the following examples.\n",
        "\n",
        "We can print the output of operations"
      ]
    },
    {
      "cell_type": "code",
      "execution_count": null,
      "id": "c46df743-49d9-4e86-82ce-691ee2250cbe",
      "metadata": {
        "id": "c46df743-49d9-4e86-82ce-691ee2250cbe"
      },
      "outputs": [],
      "source": [
        "print(3+4)\n",
        "print(5*6)\n",
        "print(8/2)"
      ]
    },
    {
      "cell_type": "markdown",
      "id": "2a190f14-3f75-42cd-845b-9a2b7121ec69",
      "metadata": {
        "id": "2a190f14-3f75-42cd-845b-9a2b7121ec69"
      },
      "source": [
        "Or we can print text (i.e. strings)"
      ]
    },
    {
      "cell_type": "code",
      "execution_count": null,
      "id": "33ddc77c-ec35-489e-869a-dc3d9a8abd48",
      "metadata": {
        "id": "33ddc77c-ec35-489e-869a-dc3d9a8abd48"
      },
      "outputs": [],
      "source": [
        "print('hello world')"
      ]
    },
    {
      "cell_type": "markdown",
      "id": "6d490a70-3485-43a9-91dc-c27e34959288",
      "metadata": {
        "id": "6d490a70-3485-43a9-91dc-c27e34959288"
      },
      "source": [
        "Or you can do a mix of the two"
      ]
    },
    {
      "cell_type": "code",
      "execution_count": null,
      "id": "bfa0dfd9-3307-43f0-bead-1cacac397955",
      "metadata": {
        "id": "bfa0dfd9-3307-43f0-bead-1cacac397955"
      },
      "outputs": [],
      "source": [
        "print('Calculate 3+4: ', 3+4)"
      ]
    },
    {
      "cell_type": "markdown",
      "id": "1338823a-8f87-471e-a242-4c766cabd24a",
      "metadata": {
        "tags": [],
        "id": "1338823a-8f87-471e-a242-4c766cabd24a"
      },
      "source": [
        "#### Printing Output in Notebooks\n",
        "\n",
        "A nice feature of using notebooks is that you don't need to write print statements to get output, making it an easy environment to test code. This is different from when you're using script files - print statements need to be used to print any output to the screen.\n",
        "\n",
        "I've used this in my own practice where I've tested code in a notebook and then translated what I've written to a script file that can be run all at once.\n",
        "\n",
        "The last line in any code cell will be printed below the cell."
      ]
    },
    {
      "cell_type": "code",
      "execution_count": null,
      "id": "eb759e2d-8937-4eb7-bcb0-889fca5671cb",
      "metadata": {
        "id": "eb759e2d-8937-4eb7-bcb0-889fca5671cb"
      },
      "outputs": [],
      "source": [
        "3+4"
      ]
    },
    {
      "cell_type": "markdown",
      "id": "1e753ac4-a1a4-40d4-b4ae-69986a2db5fb",
      "metadata": {
        "id": "1e753ac4-a1a4-40d4-b4ae-69986a2db5fb"
      },
      "source": [
        "However, if you have multiple lines you want printed, only the last one will be output to the screen unless you use print statements as shown above."
      ]
    },
    {
      "cell_type": "code",
      "execution_count": null,
      "id": "2efbaffb-5e33-4a8f-8d16-bee79a56464b",
      "metadata": {
        "id": "2efbaffb-5e33-4a8f-8d16-bee79a56464b"
      },
      "outputs": [],
      "source": [
        "3+4\n",
        "5*6\n",
        "8/2"
      ]
    },
    {
      "cell_type": "markdown",
      "id": "acb80303-79f4-49ce-b7ad-9c5ecc406e5f",
      "metadata": {
        "id": "acb80303-79f4-49ce-b7ad-9c5ecc406e5f"
      },
      "source": []
    },
    {
      "cell_type": "markdown",
      "id": "872786bb-a4a3-435f-ad50-154fb4e24231",
      "metadata": {
        "id": "872786bb-a4a3-435f-ad50-154fb4e24231"
      },
      "source": [
        "### The `type()` function\n",
        "\n",
        "This is a function we'll use a lot in this notebook. It gives us the datatype for a particular value or variable."
      ]
    },
    {
      "cell_type": "code",
      "execution_count": null,
      "id": "56b25dd6-94c0-439e-b715-4643e02964d5",
      "metadata": {
        "id": "56b25dd6-94c0-439e-b715-4643e02964d5"
      },
      "outputs": [],
      "source": [
        "type(3)"
      ]
    },
    {
      "cell_type": "code",
      "execution_count": null,
      "id": "a4420ef0-cf1f-4dd0-904f-c6713599a5f0",
      "metadata": {
        "id": "a4420ef0-cf1f-4dd0-904f-c6713599a5f0"
      },
      "outputs": [],
      "source": [
        "type('3')"
      ]
    },
    {
      "cell_type": "markdown",
      "id": "0e7745fe-4277-405f-bf6c-af0d226dc1bd",
      "metadata": {
        "id": "0e7745fe-4277-405f-bf6c-af0d226dc1bd"
      },
      "source": [
        "## ABC - Always Be Commenting\n",
        "\n",
        "Comments in Python can be left using `#`. Any line that has the `#` symbol in front of it will not be run. You can comment or uncomment a line by either selecting it or by placing your cursor at the beginning or end of the line you want commented and then pressing the keys CMD (or ALT on Windows) and `/`.\n",
        "\n",
        "Try commenting and uncommenting each line to see what happens."
      ]
    },
    {
      "cell_type": "code",
      "execution_count": null,
      "id": "2682efb6-7ea5-4d2f-bd1d-d93c97da9429",
      "metadata": {
        "tags": [],
        "id": "2682efb6-7ea5-4d2f-bd1d-d93c97da9429"
      },
      "outputs": [],
      "source": [
        "# this is a comment - anything written with # in front will not be run\n",
        "\n",
        "# 3 + 4\n",
        "\n",
        "# z = 3 # testing one value here\n",
        "\n",
        "# z = 3+4 # testing a second value here\n"
      ]
    },
    {
      "cell_type": "markdown",
      "id": "64861897-342a-467a-90ec-addc6a3e3451",
      "metadata": {
        "jp-MarkdownHeadingCollapsed": true,
        "id": "64861897-342a-467a-90ec-addc6a3e3451"
      },
      "source": []
    },
    {
      "cell_type": "markdown",
      "id": "cc881cb8-00a9-462e-812e-efeac46376ef",
      "metadata": {
        "jp-MarkdownHeadingCollapsed": true,
        "id": "cc881cb8-00a9-462e-812e-efeac46376ef"
      },
      "source": [
        "It's easy to comment out a few lines of code rather than delete them. You never know if you will need it again, or sometimes to see what didn't work. It's a way to track things you've already tested. Don't make more work for yourself by having to re-type things you already typed once!"
      ]
    },
    {
      "cell_type": "code",
      "execution_count": null,
      "id": "cadc94a2-a109-4ebe-8092-e0cb5c7bfcd6",
      "metadata": {
        "id": "cadc94a2-a109-4ebe-8092-e0cb5c7bfcd6"
      },
      "outputs": [],
      "source": [
        "## a horrible mistake\n",
        "# x = 'ooze'\n",
        "# y = 'mutant' # live in sewers?\n",
        "\n",
        "# correction\n",
        "x = 'ninja'\n",
        "y = 'turtles'\n",
        "\n",
        "x + y"
      ]
    },
    {
      "cell_type": "markdown",
      "id": "2df00719-e827-410e-a78f-452e21c02eb6",
      "metadata": {
        "jp-MarkdownHeadingCollapsed": true,
        "id": "2df00719-e827-410e-a78f-452e21c02eb6"
      },
      "source": [
        "When you're done testing and writing final code, you can always go back and clean up a code file and delete what you know for sure you don't need."
      ]
    },
    {
      "cell_type": "markdown",
      "id": "5d6e3b1b-933f-4de5-9285-1ab0ff278bb0",
      "metadata": {
        "tags": [],
        "id": "5d6e3b1b-933f-4de5-9285-1ab0ff278bb0"
      },
      "source": [
        "## Python Datatypes\n",
        "\n",
        "There many different datatypes used in any programming language. A *datatype* is an item that is stored in a particular way in the computer. Operations may work differently depending on the datatype. The datatype of an item may not always be clear in Python (as opposed to other programming languages). Datatypes may look similar on the screen, but can be stored completely differently in the computer.\n",
        "\n",
        "A brief list of built-in datatypes in Python is given below.\n",
        "|  Classification |  Datatype |\n",
        "|---|:---|\n",
        "| Numeric | int, float, boolean |\n",
        "| Sequential | string, list, tuple |\n",
        "| Mapping | dictionary |\n",
        "| Sets | set|\n",
        "| None | no datatype |\n",
        "\n",
        "<!-- - Numeric: ints, floats, boolean\n",
        "- Sequential: strings, lists, tuples\n",
        "- Mapping: dictionaries\n",
        "- Sets: sets\n",
        "- None: has no datatype -->\n",
        "\n",
        "It is also possible to define your own datatype via a Class. We won't get into this too much in this course.\n",
        "\n",
        "We can always get the type of an object by using the `type` function as shown below"
      ]
    },
    {
      "cell_type": "code",
      "execution_count": null,
      "id": "de9c0479-924a-44d2-96bb-a7164c9d6c46",
      "metadata": {
        "id": "de9c0479-924a-44d2-96bb-a7164c9d6c46"
      },
      "outputs": [],
      "source": [
        "type(3)"
      ]
    },
    {
      "cell_type": "code",
      "execution_count": null,
      "id": "d5ba40ea-4f87-4170-b3f3-ed868e16a0a2",
      "metadata": {
        "id": "d5ba40ea-4f87-4170-b3f3-ed868e16a0a2"
      },
      "outputs": [],
      "source": [
        "type(3.0)"
      ]
    },
    {
      "cell_type": "code",
      "execution_count": null,
      "id": "bcc8ea34-2653-4ed7-b2d3-dc58fb75a918",
      "metadata": {
        "id": "bcc8ea34-2653-4ed7-b2d3-dc58fb75a918"
      },
      "outputs": [],
      "source": [
        "type('3')"
      ]
    },
    {
      "cell_type": "markdown",
      "id": "2b48bd4a-a22c-4019-8d0e-8c566f105ff1",
      "metadata": {
        "id": "2b48bd4a-a22c-4019-8d0e-8c566f105ff1"
      },
      "source": [
        "### Numeric Datatypes: ints, floats, and booleans\n",
        "\n",
        "#### Int\n",
        "\n",
        "An int is just an integer. In most programming languages, ints can be stored as ints or long ints. In Python, all ints are long ints. We can perform the usual mathematical operations on ints."
      ]
    },
    {
      "cell_type": "code",
      "execution_count": null,
      "id": "46a7694f-784a-4446-81e9-096f5a216469",
      "metadata": {
        "id": "46a7694f-784a-4446-81e9-096f5a216469"
      },
      "outputs": [],
      "source": [
        "3 + 4"
      ]
    },
    {
      "cell_type": "code",
      "execution_count": null,
      "id": "0b10dd41-95ad-4a02-9e09-8ccd4c467bde",
      "metadata": {
        "id": "0b10dd41-95ad-4a02-9e09-8ccd4c467bde"
      },
      "outputs": [],
      "source": [
        "type(3 + 4)"
      ]
    },
    {
      "cell_type": "markdown",
      "id": "a12962e0-9c16-4879-b361-42fc2c4ea6c9",
      "metadata": {
        "id": "a12962e0-9c16-4879-b361-42fc2c4ea6c9"
      },
      "source": [
        "#### Float\n",
        "\n",
        "Floats, put simply, are decimal values. A float can look like an int and this can get ambiguous in Python. To ensure you want to use decimal values in your calculations, always give these values a decimal."
      ]
    },
    {
      "cell_type": "code",
      "execution_count": null,
      "id": "0c65e03e-06bd-42d5-ab20-3dc309fd7305",
      "metadata": {
        "id": "0c65e03e-06bd-42d5-ab20-3dc309fd7305"
      },
      "outputs": [],
      "source": [
        "3.1 + 4.2"
      ]
    },
    {
      "cell_type": "code",
      "execution_count": null,
      "id": "52426a28-b9f3-46fe-844a-b5464f2b5366",
      "metadata": {
        "id": "52426a28-b9f3-46fe-844a-b5464f2b5366"
      },
      "outputs": [],
      "source": [
        "type(3.1 + 4.2)"
      ]
    },
    {
      "cell_type": "code",
      "execution_count": null,
      "id": "4b8cf0d8-2734-479b-b309-d7fa678a8c80",
      "metadata": {
        "id": "4b8cf0d8-2734-479b-b309-d7fa678a8c80"
      },
      "outputs": [],
      "source": [
        "type(3 + 4.0)"
      ]
    },
    {
      "cell_type": "code",
      "execution_count": null,
      "id": "fb304bc0-d15b-4232-9481-7dc1f834f4ad",
      "metadata": {
        "id": "fb304bc0-d15b-4232-9481-7dc1f834f4ad"
      },
      "outputs": [],
      "source": [
        "type(4.0 + 3)"
      ]
    },
    {
      "cell_type": "markdown",
      "id": "0b7874b4-49b8-4b14-ab2f-6519eab1a0da",
      "metadata": {
        "id": "0b7874b4-49b8-4b14-ab2f-6519eab1a0da"
      },
      "source": [
        "#### Boolean\n",
        "\n",
        "Boolean values store either False or True. These also have the numeric value 0 or 1 respectively. We can perform some arithmetic operations on these datatypes."
      ]
    },
    {
      "cell_type": "code",
      "execution_count": null,
      "id": "171a5198-d450-473a-a622-8df7881742f8",
      "metadata": {
        "id": "171a5198-d450-473a-a622-8df7881742f8"
      },
      "outputs": [],
      "source": [
        "True + False"
      ]
    },
    {
      "cell_type": "code",
      "execution_count": null,
      "id": "1902a25d-af50-4b64-856d-3279019808e6",
      "metadata": {
        "id": "1902a25d-af50-4b64-856d-3279019808e6"
      },
      "outputs": [],
      "source": [
        "True + True"
      ]
    },
    {
      "cell_type": "code",
      "execution_count": null,
      "id": "bc975646-0b21-4cdc-bd8f-abc7a57b88c6",
      "metadata": {
        "id": "bc975646-0b21-4cdc-bd8f-abc7a57b88c6"
      },
      "outputs": [],
      "source": [
        "False + False"
      ]
    },
    {
      "cell_type": "markdown",
      "id": "1eaf2091-c99e-40da-a2dc-06f30595c635",
      "metadata": {
        "id": "1eaf2091-c99e-40da-a2dc-06f30595c635"
      },
      "source": [
        "### Sequential Datatypes: strings, lits, tuples\n",
        "\n",
        "\n",
        "#### String\n",
        "\n",
        "A string is an object that stores characters. If ultimately, computers operate with numbers, how is a character stored?\n",
        "\n",
        "[ASCII Lookup Table](https://www.lookuptables.com/text/ascii-table)\n",
        "\n",
        "In simplest terms, strings can be thought of as text information."
      ]
    },
    {
      "cell_type": "code",
      "execution_count": null,
      "id": "15f1b755-d6d5-4320-81b6-6ab03bbc689f",
      "metadata": {
        "id": "15f1b755-d6d5-4320-81b6-6ab03bbc689f"
      },
      "outputs": [],
      "source": [
        "'hello'"
      ]
    },
    {
      "cell_type": "code",
      "execution_count": null,
      "id": "585a0049-8749-4c57-8d06-455557b47caa",
      "metadata": {
        "id": "585a0049-8749-4c57-8d06-455557b47caa"
      },
      "outputs": [],
      "source": [
        "print('hello')"
      ]
    },
    {
      "cell_type": "code",
      "execution_count": null,
      "id": "f681b338-fab3-4f3a-b23a-791ce9ca4ab0",
      "metadata": {
        "id": "f681b338-fab3-4f3a-b23a-791ce9ca4ab0"
      },
      "outputs": [],
      "source": [
        "'hello'+'world'"
      ]
    },
    {
      "cell_type": "code",
      "execution_count": null,
      "id": "df6dd921-e830-41f3-b5f4-07f612508803",
      "metadata": {
        "id": "df6dd921-e830-41f3-b5f4-07f612508803"
      },
      "outputs": [],
      "source": [
        "# 'hello'-'world'"
      ]
    },
    {
      "cell_type": "code",
      "execution_count": null,
      "id": "b4766f51-ea2a-42e1-b45a-7e5a56814877",
      "metadata": {
        "id": "b4766f51-ea2a-42e1-b45a-7e5a56814877"
      },
      "outputs": [],
      "source": [
        "'hello '+'world'"
      ]
    },
    {
      "cell_type": "code",
      "execution_count": null,
      "id": "21f6d8c6-76e3-4e34-a123-68b353ed4f8f",
      "metadata": {
        "id": "21f6d8c6-76e3-4e34-a123-68b353ed4f8f"
      },
      "outputs": [],
      "source": [
        "'hello' + ' ' + 'world'"
      ]
    },
    {
      "cell_type": "markdown",
      "id": "bd085457-60cd-4adf-a4a3-c97065508385",
      "metadata": {
        "id": "bd085457-60cd-4adf-a4a3-c97065508385"
      },
      "source": [
        "Numbers can also be given as strings"
      ]
    },
    {
      "cell_type": "code",
      "execution_count": null,
      "id": "792f6c27-d7e0-4311-8416-43059cf764d5",
      "metadata": {
        "id": "792f6c27-d7e0-4311-8416-43059cf764d5"
      },
      "outputs": [],
      "source": [
        "'3'"
      ]
    },
    {
      "cell_type": "markdown",
      "id": "f832e4fb-c78c-4c53-94b6-23e7edeeb389",
      "metadata": {
        "id": "f832e4fb-c78c-4c53-94b6-23e7edeeb389"
      },
      "source": [
        "Multiline strings can be written as follows"
      ]
    },
    {
      "cell_type": "code",
      "execution_count": null,
      "id": "6938a02d-1afe-4307-813c-ce2e589f1fb0",
      "metadata": {
        "id": "6938a02d-1afe-4307-813c-ce2e589f1fb0"
      },
      "outputs": [],
      "source": [
        "'''Serious error.\n",
        "All shortcuts have disappeared.\n",
        "Screen. Mind. Both are blank.'''"
      ]
    },
    {
      "cell_type": "markdown",
      "id": "e4240fb1-3211-4291-8218-5f6a3350a197",
      "metadata": {
        "id": "e4240fb1-3211-4291-8218-5f6a3350a197"
      },
      "source": [
        "We cannot perform the same operations between different datatypes for example"
      ]
    },
    {
      "cell_type": "code",
      "execution_count": null,
      "id": "1e18de24-2caa-4088-8798-add4e9cf46e2",
      "metadata": {
        "id": "1e18de24-2caa-4088-8798-add4e9cf46e2"
      },
      "outputs": [],
      "source": [
        "# '3' + 4"
      ]
    },
    {
      "cell_type": "code",
      "execution_count": null,
      "id": "3730c534-9292-4521-9969-f1274ae22b46",
      "metadata": {
        "id": "3730c534-9292-4521-9969-f1274ae22b46"
      },
      "outputs": [],
      "source": [
        "# string vs a number - strings are stored as numbers\n",
        "ord('3') + 4"
      ]
    },
    {
      "cell_type": "code",
      "execution_count": null,
      "id": "87b2b47d-575c-4fe2-9c34-2a48966ed0f3",
      "metadata": {
        "id": "87b2b47d-575c-4fe2-9c34-2a48966ed0f3"
      },
      "outputs": [],
      "source": [
        "# int('3') + 4"
      ]
    },
    {
      "cell_type": "code",
      "execution_count": null,
      "id": "edee1178-15bd-4037-8ed3-d92d8dbfe54e",
      "metadata": {
        "id": "edee1178-15bd-4037-8ed3-d92d8dbfe54e"
      },
      "outputs": [],
      "source": []
    },
    {
      "cell_type": "markdown",
      "id": "fe3f2976-93d0-441c-8f53-3591317c0536",
      "metadata": {
        "id": "fe3f2976-93d0-441c-8f53-3591317c0536"
      },
      "source": [
        "#### List\n",
        "\n",
        "This datatype is exactly what it sounds like: a list of items. These items, or elements, can be any datatype or a mix of datatypes. Lists are datatypes that are mutable, meaning they can be changed. We'll get into how to do this later."
      ]
    },
    {
      "cell_type": "code",
      "execution_count": null,
      "id": "f8ebc86e-2276-4ac9-9267-d7cb462c8025",
      "metadata": {
        "id": "f8ebc86e-2276-4ac9-9267-d7cb462c8025"
      },
      "outputs": [],
      "source": [
        "[1, 2, 3]"
      ]
    },
    {
      "cell_type": "markdown",
      "id": "c583e629-d864-4f7e-8e4a-3992a6888014",
      "metadata": {
        "id": "c583e629-d864-4f7e-8e4a-3992a6888014"
      },
      "source": [
        "You can have a mix of datatypes."
      ]
    },
    {
      "cell_type": "code",
      "execution_count": null,
      "id": "a10408e8-19e8-42be-904f-6c00a6c67552",
      "metadata": {
        "id": "a10408e8-19e8-42be-904f-6c00a6c67552"
      },
      "outputs": [],
      "source": [
        "[1, 'two', 3]"
      ]
    },
    {
      "cell_type": "code",
      "execution_count": null,
      "id": "f56d33ba-fc35-4d68-82c4-c26d91bd0c30",
      "metadata": {
        "id": "f56d33ba-fc35-4d68-82c4-c26d91bd0c30"
      },
      "outputs": [],
      "source": [
        "[1, 'two', False]"
      ]
    },
    {
      "cell_type": "markdown",
      "id": "0c3d887d-468c-457f-98c8-ad8a7cb069cf",
      "metadata": {
        "id": "0c3d887d-468c-457f-98c8-ad8a7cb069cf"
      },
      "source": [
        "Or lists within lists"
      ]
    },
    {
      "cell_type": "code",
      "execution_count": null,
      "id": "408fab1c-abed-4af6-982f-4c4f317bda0d",
      "metadata": {
        "id": "408fab1c-abed-4af6-982f-4c4f317bda0d"
      },
      "outputs": [],
      "source": [
        "[1, 'two', [True, False, 'three']]"
      ]
    },
    {
      "cell_type": "markdown",
      "id": "e00ead51-a212-476a-80f5-76b673ac55a1",
      "metadata": {
        "id": "e00ead51-a212-476a-80f5-76b673ac55a1"
      },
      "source": [
        "You can perform some basic arithmetic operations on lists."
      ]
    },
    {
      "cell_type": "code",
      "execution_count": null,
      "id": "48bcbcfc-ebbb-4cba-adea-04ca4dfb6734",
      "metadata": {
        "id": "48bcbcfc-ebbb-4cba-adea-04ca4dfb6734"
      },
      "outputs": [],
      "source": [
        "[1, 2, 3] + [5, 6, 7]"
      ]
    },
    {
      "cell_type": "code",
      "execution_count": null,
      "id": "6ccb60d9-90e2-4296-bc84-6d4e7609d5c1",
      "metadata": {
        "id": "6ccb60d9-90e2-4296-bc84-6d4e7609d5c1"
      },
      "outputs": [],
      "source": [
        "3*[1,2,3]"
      ]
    },
    {
      "cell_type": "code",
      "execution_count": null,
      "id": "042e8063-dfee-4973-ab13-6203c61f2a79",
      "metadata": {
        "id": "042e8063-dfee-4973-ab13-6203c61f2a79"
      },
      "outputs": [],
      "source": [
        "4*['Jason']"
      ]
    },
    {
      "cell_type": "markdown",
      "id": "2beb9add-da98-4c73-bc99-9d3484116e59",
      "metadata": {
        "id": "2beb9add-da98-4c73-bc99-9d3484116e59"
      },
      "source": [
        "But not all arithmetic operations work. When in doubt, test it and see what happens."
      ]
    },
    {
      "cell_type": "code",
      "execution_count": null,
      "id": "4c55000e-967c-4d17-aa5c-bab8fc411549",
      "metadata": {
        "id": "4c55000e-967c-4d17-aa5c-bab8fc411549"
      },
      "outputs": [],
      "source": [
        "# [1, 2, 3] - [5, 6, 7]"
      ]
    },
    {
      "cell_type": "code",
      "execution_count": null,
      "id": "e24f6732-20a5-439e-a80f-b80f5e653bfe",
      "metadata": {
        "id": "e24f6732-20a5-439e-a80f-b80f5e653bfe"
      },
      "outputs": [],
      "source": [
        "# 4 + ['Dan']"
      ]
    },
    {
      "cell_type": "code",
      "execution_count": null,
      "id": "2581506b-2a50-454b-9794-217b947128fe",
      "metadata": {
        "id": "2581506b-2a50-454b-9794-217b947128fe"
      },
      "outputs": [],
      "source": [
        "# '4' + ['Dan']"
      ]
    },
    {
      "cell_type": "code",
      "execution_count": null,
      "id": "fb6600d7-b670-4d4d-a7c9-4197a45982f4",
      "metadata": {
        "id": "fb6600d7-b670-4d4d-a7c9-4197a45982f4"
      },
      "outputs": [],
      "source": [
        "# [4] + ['Dan']"
      ]
    },
    {
      "cell_type": "code",
      "execution_count": null,
      "id": "a1abbe5b-d78e-4a83-befc-8fa74fdc326b",
      "metadata": {
        "id": "a1abbe5b-d78e-4a83-befc-8fa74fdc326b"
      },
      "outputs": [],
      "source": [
        "# ['4'] + ['Dan']"
      ]
    },
    {
      "cell_type": "code",
      "execution_count": null,
      "id": "073277ad-6646-43f9-b9e6-07dc61dc4a0d",
      "metadata": {
        "id": "073277ad-6646-43f9-b9e6-07dc61dc4a0d"
      },
      "outputs": [],
      "source": [
        "# 4*'Dan'"
      ]
    },
    {
      "cell_type": "markdown",
      "id": "4d43fc79-5413-4880-8c50-edd6305300d2",
      "metadata": {
        "id": "4d43fc79-5413-4880-8c50-edd6305300d2"
      },
      "source": [
        "#### Tuple\n",
        "\n",
        "Think about this datatype like you would coordinates in a plane: a list of items, but in this case they are immutable, i.e. they cannot be changed. These items, or elements, can be any datatype or a mix of datatypes. We won't be using these too much (if at all)."
      ]
    },
    {
      "cell_type": "code",
      "execution_count": null,
      "id": "46b667e2-e02c-44c9-b403-f71ee5335a2d",
      "metadata": {
        "id": "46b667e2-e02c-44c9-b403-f71ee5335a2d"
      },
      "outputs": [],
      "source": [
        "(False, 1)"
      ]
    },
    {
      "cell_type": "markdown",
      "id": "cfaed759-eea0-43d4-81f5-459a974d17de",
      "metadata": {
        "id": "cfaed759-eea0-43d4-81f5-459a974d17de"
      },
      "source": [
        "### Mapping Datatype: Dictionaries\n",
        "\n",
        "Dictionaries work like phone books (if you even know what those are). To find a phone number in a phone book, you look up the person's name, then get the number. The names in dictionaries are called _keys_ and the phone numbers are _values_. These are refered to as _key - value pairs_.\n",
        "\n",
        "We'll talk more about how these work later. For now, we'll just show the syntax for a dictionary."
      ]
    },
    {
      "cell_type": "code",
      "execution_count": null,
      "id": "eef503a5-89fb-4ba8-9ec2-846ce4d43e9b",
      "metadata": {
        "id": "eef503a5-89fb-4ba8-9ec2-846ce4d43e9b"
      },
      "outputs": [],
      "source": [
        "student_class = {\n",
        "    'Sam': 'Freshman',\n",
        "    'Julie': 'Senior',\n",
        "    'Tom': 'Sophomore',\n",
        "    'Harley': 'Freshman'\n",
        "}"
      ]
    },
    {
      "cell_type": "markdown",
      "id": "f424a9c3-68c1-4f34-ac47-e0939a807804",
      "metadata": {
        "id": "f424a9c3-68c1-4f34-ac47-e0939a807804"
      },
      "source": [
        "We can call an element of the dictionary using the _key_ and it will return the _value_."
      ]
    },
    {
      "cell_type": "code",
      "execution_count": null,
      "id": "711a787a-0067-427c-a4b2-539db3872157",
      "metadata": {
        "id": "711a787a-0067-427c-a4b2-539db3872157"
      },
      "outputs": [],
      "source": [
        "student_class['Harley']"
      ]
    },
    {
      "cell_type": "markdown",
      "id": "25242be4-0149-419f-9e8f-0941fb0bca88",
      "metadata": {
        "id": "25242be4-0149-419f-9e8f-0941fb0bca88"
      },
      "source": [
        "#### Other Datatypes: Sets and Classes\n",
        "\n",
        "Sets and defining classes are two datatypes we won't really use in this class so we'll skip them for now."
      ]
    },
    {
      "cell_type": "markdown",
      "id": "0b0ae316-24a9-4b02-890c-3168654b3d0b",
      "metadata": {
        "tags": [],
        "id": "0b0ae316-24a9-4b02-890c-3168654b3d0b"
      },
      "source": [
        "## Python as a Calculator\n",
        "\n",
        "Python can be used like a calculator - you'll want to use it for more than that but the basic math operations can be used without any additional libraries or functions.\n",
        "\n",
        "### Basic Arithmetic Operators\n",
        "\n",
        "We have all the usual math operators as shown in the table below.\n",
        "\n",
        "|   Operator\t|  Name \t|   Math Notation\t|   Example Syntax\t|\n",
        "|:-:|:-:|:-:|:-:|\n",
        "|  `+`\t|  Addition \t|   $$ a + b $$\t|   `a + b`\t|\n",
        "|  `-`\t|  Subtraction\t|   $$ a - b $$\t|   `a - b`\t|\n",
        "|  `*` \t|  Multiplication \t|   $$ a * b $$\t|   `a * b`\t|\n",
        "|  `/`\t|  Division\t    |  $$ \\frac{a}{b} $$\t|   `a / b`\t|\n",
        "|  `**` |  Exponent   \t|   $$ a^b$$\t|   `a**b`\t|\n",
        "|  `//`\t|  Floor Division \t| $$ \\left\\lfloor\\frac{a}{b}\\right\\rfloor $$  \t|   `a//b`\t| --> -->"
      ]
    },
    {
      "cell_type": "code",
      "execution_count": null,
      "id": "430508ec-3277-4ba2-ad3e-ba2f88a5f00f",
      "metadata": {
        "tags": [],
        "id": "430508ec-3277-4ba2-ad3e-ba2f88a5f00f"
      },
      "outputs": [],
      "source": [
        "# Addition\n",
        "3+4"
      ]
    },
    {
      "cell_type": "code",
      "execution_count": null,
      "id": "a987399e-764f-498d-8729-98f091666cd4",
      "metadata": {
        "tags": [],
        "id": "a987399e-764f-498d-8729-98f091666cd4"
      },
      "outputs": [],
      "source": [
        "# Multiplication\n",
        "5*6"
      ]
    },
    {
      "cell_type": "code",
      "execution_count": null,
      "id": "56db8e4a-6fcd-49db-8a8c-49d8a5d4de8c",
      "metadata": {
        "tags": [],
        "id": "56db8e4a-6fcd-49db-8a8c-49d8a5d4de8c"
      },
      "outputs": [],
      "source": [
        "# Exponents\n",
        "5**2"
      ]
    },
    {
      "cell_type": "code",
      "execution_count": null,
      "id": "7f34b07d-7976-4a1b-9a90-2a772e395399",
      "metadata": {
        "tags": [],
        "id": "7f34b07d-7976-4a1b-9a90-2a772e395399"
      },
      "outputs": [],
      "source": [
        "# Division\n",
        "\n",
        "11/3"
      ]
    },
    {
      "cell_type": "markdown",
      "id": "e758410a-9795-42e8-8753-f711faefcb60",
      "metadata": {
        "id": "e758410a-9795-42e8-8753-f711faefcb60"
      },
      "source": [
        "### Special Arithmetic Operators: floor and mod\n",
        "\n",
        "We'll talk more about how these work later. Below you can see the syntax for these operations. See if you can guess what's happening based on the examples.\n",
        "\n",
        "#### Floor"
      ]
    },
    {
      "cell_type": "code",
      "execution_count": null,
      "id": "11f028f6-607d-4bd1-8356-6f87e8dd4313",
      "metadata": {
        "id": "11f028f6-607d-4bd1-8356-6f87e8dd4313"
      },
      "outputs": [],
      "source": [
        "5//2"
      ]
    },
    {
      "cell_type": "code",
      "execution_count": null,
      "id": "7f86cd99-da87-4b6c-a404-f2ec806705b1",
      "metadata": {
        "id": "7f86cd99-da87-4b6c-a404-f2ec806705b1"
      },
      "outputs": [],
      "source": [
        "7//3"
      ]
    },
    {
      "cell_type": "code",
      "execution_count": null,
      "id": "b6c93a1c-5c50-450d-9ee2-a26ac8951cfd",
      "metadata": {
        "id": "b6c93a1c-5c50-450d-9ee2-a26ac8951cfd"
      },
      "outputs": [],
      "source": [
        "18//5"
      ]
    },
    {
      "cell_type": "markdown",
      "id": "a8e1bd7b-c40a-429f-9f33-3e43e083725b",
      "metadata": {
        "id": "a8e1bd7b-c40a-429f-9f33-3e43e083725b"
      },
      "source": [
        "Floor division rounds the result down to the nearest integer."
      ]
    },
    {
      "cell_type": "markdown",
      "id": "43fbcce4-c1f3-4a65-93e4-472aad51b6a1",
      "metadata": {
        "id": "43fbcce4-c1f3-4a65-93e4-472aad51b6a1"
      },
      "source": [
        "#### Modulus\n",
        "\n",
        "What do you think this is doing?"
      ]
    },
    {
      "cell_type": "code",
      "execution_count": null,
      "id": "91037ce6-01ee-4567-88a1-20d17202d44d",
      "metadata": {
        "id": "91037ce6-01ee-4567-88a1-20d17202d44d"
      },
      "outputs": [],
      "source": [
        "5 % 2"
      ]
    },
    {
      "cell_type": "code",
      "execution_count": null,
      "id": "0325313d-3492-4909-88ce-802469847917",
      "metadata": {
        "id": "0325313d-3492-4909-88ce-802469847917"
      },
      "outputs": [],
      "source": [
        "8 % 1"
      ]
    },
    {
      "cell_type": "code",
      "execution_count": null,
      "id": "d1ffd0ff-b0cc-443f-91eb-48810dfab84e",
      "metadata": {
        "id": "d1ffd0ff-b0cc-443f-91eb-48810dfab84e"
      },
      "outputs": [],
      "source": [
        "8 % 2"
      ]
    },
    {
      "cell_type": "code",
      "execution_count": null,
      "id": "edee0084-cd14-4e3f-baea-e2c0a7b5d8a4",
      "metadata": {
        "id": "edee0084-cd14-4e3f-baea-e2c0a7b5d8a4"
      },
      "outputs": [],
      "source": [
        "8 % 3"
      ]
    },
    {
      "cell_type": "code",
      "execution_count": null,
      "id": "bb815122-3269-4c4d-ac64-9739d176bf3f",
      "metadata": {
        "id": "bb815122-3269-4c4d-ac64-9739d176bf3f"
      },
      "outputs": [],
      "source": [
        "8 % 4"
      ]
    },
    {
      "cell_type": "markdown",
      "id": "b10e3c0f-d516-4f5b-8105-5858aca15801",
      "metadata": {
        "id": "b10e3c0f-d516-4f5b-8105-5858aca15801"
      },
      "source": [
        "The modulus is the remainder of the division. This operator comes in handing a lot in programming.\n",
        "\n",
        "## Variables\n",
        "\n",
        "Variables allow us to store values and re-use values. We *assign* a value to a variable with the `=`."
      ]
    },
    {
      "cell_type": "code",
      "execution_count": null,
      "id": "c6359cd3-9190-42ba-961a-a615fcb41f53",
      "metadata": {
        "id": "c6359cd3-9190-42ba-961a-a615fcb41f53"
      },
      "outputs": [],
      "source": [
        "m = 2\n",
        "m"
      ]
    },
    {
      "cell_type": "markdown",
      "id": "0dc13169-80f5-4b2e-931d-e05f40e1733c",
      "metadata": {
        "id": "0dc13169-80f5-4b2e-931d-e05f40e1733c"
      },
      "source": [
        "A variable cannot be used until it has been assigned a value."
      ]
    },
    {
      "cell_type": "code",
      "execution_count": null,
      "id": "d31090a2-67c1-44a0-8b29-5c4b9a559d16",
      "metadata": {
        "id": "d31090a2-67c1-44a0-8b29-5c4b9a559d16"
      },
      "outputs": [],
      "source": [
        "# n"
      ]
    },
    {
      "cell_type": "markdown",
      "id": "f7c1d9b4-8e2c-4d95-b060-943b0ddeb748",
      "metadata": {
        "id": "f7c1d9b4-8e2c-4d95-b060-943b0ddeb748"
      },
      "source": [
        "In Jupyter Notebooks if you want to see the value of a variable, you can just type it and run the cell."
      ]
    },
    {
      "cell_type": "code",
      "execution_count": null,
      "id": "7f75183a-0bd7-4ff8-87c2-bfaff69caf51",
      "metadata": {
        "id": "7f75183a-0bd7-4ff8-87c2-bfaff69caf51"
      },
      "outputs": [],
      "source": [
        "# m"
      ]
    },
    {
      "cell_type": "markdown",
      "id": "4ba32525-6f03-498f-95b5-2627836e788e",
      "metadata": {
        "id": "4ba32525-6f03-498f-95b5-2627836e788e"
      },
      "source": [
        "### Variable Naming Conventions\n",
        "You can name variables _almost_ whatever you want. There are a few rules that must be followed, and there are a few rules that are just good habits.\n",
        "\n",
        "**Required Variable Naming Conventions**\n",
        "- Names can only consist of letters, underscores, and numbers.\n",
        "- You cannot use spaces.\n",
        "- Names can't begin with numbers.\n",
        "- You can't name a variable after a built-in Python keyword (eg `if`).\n",
        "\n",
        "**Naming Styles**\n",
        "There are a few styles you can use when naming things in python.\n",
        "- **Snake case** Use all lower case letters and separate words with a single underscores for example `number_of_students`.\n",
        "- **Camel case** The first letter is lower case and the first letter of every other word is capitalized. For example `numberOfStudents`.\n",
        "- **Pascal Case** The same as Camel Case but the first letter is capitalized. For example `NumberOfStudents`.\n",
        "\n",
        "It doesn't matter which you use, but pick one and be consistent with it so your brain doesn't get confused later and your programs are more readable. _Personally, I find Snake Case is the most readable for me_.\n",
        "\n",
        "**Variable Naming Good Practices**\n",
        "- Names should _**always**_ be descriptive (ie, don't name variables `x` and `df`) - even if they're long it makes code more readable. There are lots of features in different coding tools (like Jupyter Lab) that make it easy to enter variable names when typing code.\n",
        "- No capital letters - you will get confused.\n",
        "- Variables should not begin with an underscore (this means something special)\n",
        "- Technically, you _can_ name variables after built-in Python _functions_ (like `print`), but don't - it can seriously confuse things later.\n",
        "- Rule of thumb: If a variable name turns green as you type it, don't use it!\n"
      ]
    },
    {
      "cell_type": "code",
      "execution_count": null,
      "id": "9d09cbd8-67e3-46c0-8789-ae07fe5e375c",
      "metadata": {
        "tags": [],
        "id": "9d09cbd8-67e3-46c0-8789-ae07fe5e375c"
      },
      "outputs": [],
      "source": [
        "x = 2\n",
        "y = 3"
      ]
    },
    {
      "cell_type": "code",
      "execution_count": null,
      "id": "16bcbcca-24ce-46ee-ba70-db9557bef285",
      "metadata": {
        "tags": [],
        "id": "16bcbcca-24ce-46ee-ba70-db9557bef285"
      },
      "outputs": [],
      "source": [
        "x"
      ]
    },
    {
      "cell_type": "code",
      "execution_count": null,
      "id": "2fae7ef6-f98f-4c27-a686-6900a495cd46",
      "metadata": {
        "tags": [],
        "id": "2fae7ef6-f98f-4c27-a686-6900a495cd46"
      },
      "outputs": [],
      "source": [
        "y"
      ]
    },
    {
      "cell_type": "markdown",
      "id": "d0d6f8a7-b629-4a18-8780-38d59b37dce5",
      "metadata": {
        "id": "d0d6f8a7-b629-4a18-8780-38d59b37dce5"
      },
      "source": [
        "Now let's say I redefine my variable. We need to be careful about this. Running the code cell below, overwrites the information we stored running the cells above. This is one of the dangerous things about Jupyter notebooks because they allow you to run your code out of order. This is not an issue when running a script file, as all code is run in order it appears in the file when it is run."
      ]
    },
    {
      "cell_type": "code",
      "execution_count": null,
      "id": "bf8bced8-7345-4183-94f7-ef7fdf341de9",
      "metadata": {
        "tags": [],
        "id": "bf8bced8-7345-4183-94f7-ef7fdf341de9"
      },
      "outputs": [],
      "source": [
        "x = 3"
      ]
    },
    {
      "cell_type": "code",
      "execution_count": null,
      "id": "ca975b59-72f4-4f8a-8e2a-0081035425d1",
      "metadata": {
        "tags": [],
        "id": "ca975b59-72f4-4f8a-8e2a-0081035425d1"
      },
      "outputs": [],
      "source": [
        "x"
      ]
    },
    {
      "cell_type": "code",
      "execution_count": null,
      "id": "5dd687e8-eedb-4f90-aa05-4a3c6258e4e2",
      "metadata": {
        "tags": [],
        "id": "5dd687e8-eedb-4f90-aa05-4a3c6258e4e2"
      },
      "outputs": [],
      "source": [
        "y"
      ]
    },
    {
      "cell_type": "code",
      "execution_count": null,
      "id": "f166af4e-62f6-4790-b3d1-5b8c29d2a566",
      "metadata": {
        "tags": [],
        "id": "f166af4e-62f6-4790-b3d1-5b8c29d2a566"
      },
      "outputs": [],
      "source": [
        "y = x + 3"
      ]
    },
    {
      "cell_type": "code",
      "execution_count": null,
      "id": "8a7942d7-9174-460c-aaeb-e2fc345db0d9",
      "metadata": {
        "tags": [],
        "id": "8a7942d7-9174-460c-aaeb-e2fc345db0d9"
      },
      "outputs": [],
      "source": [
        "y\n"
      ]
    },
    {
      "cell_type": "markdown",
      "id": "1bfda135-1bc7-431f-b175-d39460b6568c",
      "metadata": {
        "id": "1bfda135-1bc7-431f-b175-d39460b6568c"
      },
      "source": [
        "Even though it can take more to type, try and use variable names that are descriptive, so anyone looking at your code can easily understand what it's doing (this includes future you!)"
      ]
    },
    {
      "cell_type": "code",
      "execution_count": null,
      "id": "4a00831a-83cc-457a-ac60-76d335500b14",
      "metadata": {
        "tags": [],
        "id": "4a00831a-83cc-457a-ac60-76d335500b14"
      },
      "outputs": [],
      "source": [
        "initial_value = 3\n",
        "terminal_value = 5\n",
        "important_variable_for_some_function = 7"
      ]
    },
    {
      "cell_type": "markdown",
      "id": "39f98d1d-3382-48b8-9fd8-f9c937c94dbd",
      "metadata": {
        "id": "39f98d1d-3382-48b8-9fd8-f9c937c94dbd"
      },
      "source": [
        "We can perform calculations using the above variables just as we did with the simple `x` and `y` we used above."
      ]
    },
    {
      "cell_type": "code",
      "execution_count": null,
      "id": "f638a491-166c-4b17-92ae-070da635da2a",
      "metadata": {
        "tags": [],
        "id": "f638a491-166c-4b17-92ae-070da635da2a"
      },
      "outputs": [],
      "source": [
        "initial_value - terminal_value"
      ]
    },
    {
      "cell_type": "code",
      "execution_count": null,
      "id": "7c186b5c-2d5b-4262-9be0-2cb64b6760d3",
      "metadata": {
        "tags": [],
        "id": "7c186b5c-2d5b-4262-9be0-2cb64b6760d3"
      },
      "outputs": [],
      "source": [
        "important_variable_for_some_function - initial_value"
      ]
    },
    {
      "cell_type": "markdown",
      "id": "dc80daea-39ee-423d-93f4-64b6564c874c",
      "metadata": {
        "id": "dc80daea-39ee-423d-93f4-64b6564c874c"
      },
      "source": [
        "## Advanced Printing\n",
        "\n",
        "Now that you've seen a bit more about some of the python basics, let's talk about some more advanced ways of printing things. These will come in handy as you write code."
      ]
    },
    {
      "cell_type": "markdown",
      "id": "d241a43c-4c72-4717-92ce-6e231b8b7aaf",
      "metadata": {
        "id": "d241a43c-4c72-4717-92ce-6e231b8b7aaf"
      },
      "source": [
        "### Escape Characters\n",
        "\n",
        "Suppose we want to print a line that contains quotes, apostrophes, brackets, or any other character that could otherwise be interpretted by python. To force the printing of a character we use the backslash `\\`."
      ]
    },
    {
      "cell_type": "code",
      "execution_count": null,
      "id": "ebd8aaf8-7cfe-4474-a31f-1b3aa5334427",
      "metadata": {
        "id": "ebd8aaf8-7cfe-4474-a31f-1b3aa5334427"
      },
      "outputs": [],
      "source": [
        "print('I\\'m excited to teach this semester.')\n",
        "print('If I want to print quotations I use \\\" \\\" ')\n",
        "print('If I want to use an escape character I use a backslash \\\\')"
      ]
    },
    {
      "cell_type": "markdown",
      "id": "68306ad6-7467-4e8b-8c00-855dccca7864",
      "metadata": {
        "id": "68306ad6-7467-4e8b-8c00-855dccca7864"
      },
      "source": [
        "### Compounding ouput"
      ]
    },
    {
      "cell_type": "code",
      "execution_count": null,
      "id": "942fcd45-c31e-40dc-9ff1-f24de56a6c29",
      "metadata": {
        "id": "942fcd45-c31e-40dc-9ff1-f24de56a6c29"
      },
      "outputs": [],
      "source": [
        "print('This semester I have', 6 , 'students in', 2025)"
      ]
    },
    {
      "cell_type": "code",
      "execution_count": null,
      "id": "4a5adee1-80a3-4d4f-8835-a9a2b40f143f",
      "metadata": {
        "id": "4a5adee1-80a3-4d4f-8835-a9a2b40f143f"
      },
      "outputs": [],
      "source": [
        "number_of_students = 6\n",
        "semester = 'Spring 2025'\n",
        "\n",
        "print('In the', semester, 'semester I have', number_of_students, 'students')"
      ]
    },
    {
      "cell_type": "markdown",
      "id": "3c8bcabf-7faf-4828-818d-4dbeed6cf90f",
      "metadata": {
        "id": "3c8bcabf-7faf-4828-818d-4dbeed6cf90f"
      },
      "source": [
        "### Printing Multiple Lines"
      ]
    },
    {
      "cell_type": "code",
      "execution_count": null,
      "id": "a5fa1b57-d449-4d10-b07e-72aa31850bad",
      "metadata": {
        "id": "a5fa1b57-d449-4d10-b07e-72aa31850bad"
      },
      "outputs": [],
      "source": [
        "a_multiline_string = \"\"\"\n",
        "Having been erased,\n",
        "The document you're seeking\n",
        "Must now be retyped.\n",
        "\"\"\"\n",
        "\n",
        "a_long_string = 'Having been erased,\\nThe document you\\'re seeking \\nMust now be retyped.\\n'\n",
        "\n",
        "print(a_multiline_string)\n",
        "print(a_long_string)\n"
      ]
    },
    {
      "cell_type": "markdown",
      "id": "63721ecd-7947-4e62-adaf-a05ed197c93a",
      "metadata": {
        "id": "63721ecd-7947-4e62-adaf-a05ed197c93a"
      },
      "source": [
        "### f-strings"
      ]
    },
    {
      "cell_type": "markdown",
      "id": "2d5b815c-ac1b-4b63-a6ef-a8b1be426d33",
      "metadata": {
        "id": "2d5b815c-ac1b-4b63-a6ef-a8b1be426d33"
      },
      "source": [
        "f strings or string literals allow us to use variables within our strings. Some examples are demonstrated below."
      ]
    },
    {
      "cell_type": "code",
      "execution_count": null,
      "id": "5775319f-42ff-4f11-ada2-805ddfcc7251",
      "metadata": {
        "id": "5775319f-42ff-4f11-ada2-805ddfcc7251"
      },
      "outputs": [],
      "source": [
        "favorite_food = 'cake'\n",
        "print(f'My favorite food is {favorite_food}.')"
      ]
    },
    {
      "cell_type": "code",
      "execution_count": null,
      "id": "34e2d1eb-7818-431e-83b6-495826acb891",
      "metadata": {
        "id": "34e2d1eb-7818-431e-83b6-495826acb891"
      },
      "outputs": [],
      "source": [
        "course = 'QR 105'\n",
        "number_of_students = 6\n",
        "semester = 'Spring'\n",
        "year = 2025\n",
        "\n",
        "print(f'In the {semester} of {year} I have {number_of_students} in {course}.')"
      ]
    },
    {
      "cell_type": "markdown",
      "id": "2ebe46c0-e879-4d3c-bc5e-242e7133de98",
      "metadata": {
        "id": "2ebe46c0-e879-4d3c-bc5e-242e7133de98"
      },
      "source": [
        "## Putting it all together\n",
        "\n",
        "Now we'll put what we've learned together and attempt to write a mathematical expression using variables."
      ]
    },
    {
      "cell_type": "markdown",
      "id": "5f0dcf06-5ab7-4979-b520-66ae799398cc",
      "metadata": {
        "id": "5f0dcf06-5ab7-4979-b520-66ae799398cc"
      },
      "source": [
        "### Try it yourself:\n",
        "\n",
        "Recall the quadratic formula you may have learned for solving a polynomial equation of the form\n",
        "$$ ax^2 + bx + c = 0$$\n",
        "with coefficients $a$, $b$, $c$:\n",
        "\n",
        "$$ x = \\frac{-b \\pm \\sqrt{b^2 - 4ac}}{2a} $$\n",
        "\n",
        "Turn this into code in the cells below. Use it to find the the solutions to\n",
        "$$3x^2 + 5x - 7 = 0 $$"
      ]
    },
    {
      "cell_type": "code",
      "execution_count": null,
      "id": "8d3e12e3-4df4-4e1e-9157-76d384d59b62",
      "metadata": {
        "id": "8d3e12e3-4df4-4e1e-9157-76d384d59b62"
      },
      "outputs": [],
      "source": [
        "# assign variables\n",
        "\n",
        "\n",
        "# minus\n",
        "\n",
        "# plus\n",
        "\n",
        "\n",
        "# print values\n"
      ]
    },
    {
      "cell_type": "code",
      "execution_count": null,
      "id": "64a74109-5d74-4957-9d2c-854392d9bcf5",
      "metadata": {
        "id": "64a74109-5d74-4957-9d2c-854392d9bcf5"
      },
      "outputs": [],
      "source": []
    }
  ],
  "metadata": {
    "kernelspec": {
      "display_name": "Python 3 (ipykernel)",
      "language": "python",
      "name": "python3"
    },
    "language_info": {
      "codemirror_mode": {
        "name": "ipython",
        "version": 3
      },
      "file_extension": ".py",
      "mimetype": "text/x-python",
      "name": "python",
      "nbconvert_exporter": "python",
      "pygments_lexer": "ipython3",
      "version": "3.10.13"
    },
    "colab": {
      "provenance": []
    }
  },
  "nbformat": 4,
  "nbformat_minor": 5
}